{
 "cells": [
  {
   "cell_type": "code",
   "execution_count": 1,
   "id": "bde2ca94",
   "metadata": {},
   "outputs": [],
   "source": [
    "import game_utils\n",
    "import pandas as pd\n",
    "from data.data import zones_data, faction_forces_data, historical_battles_data \n",
    "\n",
    "\n",
    "# Convert your data into pandas DataFrames\n",
    "zones_df = pd.DataFrame(zones_data)\n",
    "faction_forces_df = pd.DataFrame(faction_forces_data).transpose().reset_index().rename(columns={'index': 'Faction'})\n",
    "historical_battles_df = pd.DataFrame(historical_battles_data)"
   ]
  },
  {
   "cell_type": "code",
   "execution_count": 2,
   "id": "9e56a3f8",
   "metadata": {},
   "outputs": [
    {
     "name": "stdout",
     "output_type": "stream",
     "text": [
      "{'Infantry': 100, 'Armor': 0, 'Air Support': 0, 'Special Forces': 0, 'Resources': 0}\n"
     ]
    }
   ],
   "source": [
    "print(faction_forces_data['Blue'])"
   ]
  },
  {
   "cell_type": "code",
   "execution_count": 3,
   "id": "20d618c9",
   "metadata": {},
   "outputs": [
    {
     "name": "stdout",
     "output_type": "stream",
     "text": [
      "Q-table before learning:\n",
      "[[0. 0. 0.]\n",
      " [0. 0. 0.]\n",
      " [0. 0. 0.]\n",
      " [0. 0. 0.]]\n",
      "\n",
      "Q-table after learning:\n",
      "[[-0.891199  0.        0.      ]\n",
      " [ 1.099     0.        0.      ]\n",
      " [ 1.        0.        0.      ]\n",
      " [-1.       -1.        0.      ]]\n"
     ]
    }
   ],
   "source": [
    "# Example: Printing Q-table before\n",
    "print(\"Q-table before learning:\")\n",
    "print(game_utils.Q_table)\n",
    "\n",
    "# Calling the learning function\n",
    "game_utils.learn_from_historical_battles(historical_battles_data, zones_data)\n",
    "\n",
    "# Printing Q-table after\n",
    "print(\"\\nQ-table after learning:\")\n",
    "print(game_utils.Q_table)\n"
   ]
  },
  {
   "cell_type": "code",
   "execution_count": null,
   "id": "edb850f9",
   "metadata": {},
   "outputs": [],
   "source": [
    "# Call the run_ga function from game_utils, providing zones data and the faction forces for \"Blue\"\n",
    "game_utils.run_ga(zones_data, faction_forces_data[\"Blue\"])"
   ]
  }
 ],
 "metadata": {
  "kernelspec": {
   "display_name": "Python 3",
   "language": "python",
   "name": "python3"
  },
  "language_info": {
   "codemirror_mode": {
    "name": "ipython",
    "version": 3
   },
   "file_extension": ".py",
   "mimetype": "text/x-python",
   "name": "python",
   "nbconvert_exporter": "python",
   "pygments_lexer": "ipython3",
   "version": "3.12.2"
  }
 },
 "nbformat": 4,
 "nbformat_minor": 5
}
